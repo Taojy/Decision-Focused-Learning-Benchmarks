{
 "cells": [
  {
   "cell_type": "code",
   "execution_count": 1,
   "metadata": {},
   "outputs": [
    {
     "name": "stdout",
     "output_type": "stream",
     "text": [
      "Prediction results for the test set have been saved to a CSV file.\n"
     ]
    }
   ],
   "source": [
    "import pandas as pd\n",
    "from sklearn.linear_model import LinearRegression\n",
    "\n",
    "# Read data from CSV files\n",
    "X_train = pd.read_csv('X_train.csv')  # Read training features\n",
    "Y_train = pd.read_csv('Y_train.csv')  # Read training labels\n",
    "X_test = pd.read_csv('X_test.csv')    # Read test features\n",
    "Y_test = pd.read_csv('Y_test.csv')    # Read test labels\n",
    "\n",
    "# Create a linear regression model\n",
    "model = LinearRegression()\n",
    "\n",
    "# Train the model on the training set\n",
    "model.fit(X_train, Y_train)\n",
    "\n",
    "# Extract model coefficients (theta) and intercept\n",
    "theta = model.coef_\n",
    "intercept = model.intercept_\n",
    "\n",
    "# Store theta and intercept into DataFrames\n",
    "theta_df = pd.DataFrame({\n",
    "    'Feature': X_train.columns,  # Feature names\n",
    "    'Theta': theta[0]            # Corresponding theta values\n",
    "})\n",
    "intercept_df = pd.DataFrame({\n",
    "    'Intercept': [intercept[0]]  # Intercept value\n",
    "})\n",
    "\n",
    "# Make predictions on training and test sets\n",
    "Y_train_pred = model.predict(X_train)\n",
    "Y_test_pred = model.predict(X_test)\n",
    "\n",
    "# Save prediction results to a CSV file\n",
    "test_results = pd.DataFrame({\n",
    "    'Predicted': Y_test_pred[:, 0]  # Predicted values\n",
    "})\n",
    "\n",
    "test_results.to_csv('test_RF1.csv', index=False)\n",
    "\n",
    "print(\"Prediction results for the test set have been saved to a CSV file.\")\n"
   ]
  }
 ],
 "metadata": {
  "kernelspec": {
   "display_name": "NNLLL",
   "language": "python",
   "name": "nnlll"
  },
  "language_info": {
   "codemirror_mode": {
    "name": "ipython",
    "version": 3
   },
   "file_extension": ".py",
   "mimetype": "text/x-python",
   "name": "python",
   "nbconvert_exporter": "python",
   "pygments_lexer": "ipython3",
   "version": "3.9.15"
  }
 },
 "nbformat": 4,
 "nbformat_minor": 2
}
