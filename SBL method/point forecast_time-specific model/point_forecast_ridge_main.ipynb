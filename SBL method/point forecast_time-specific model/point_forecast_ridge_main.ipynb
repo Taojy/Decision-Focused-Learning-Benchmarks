{
 "cells": [
  {
   "cell_type": "code",
   "execution_count": null,
   "metadata": {
    "vscode": {
     "languageId": "plaintext"
    }
   },
   "outputs": [],
   "source": [
    "import pandas as pd\n",
    "from sklearn.linear_model import Ridge  \n",
    "import numpy as np\n",
    "import os\n",
    "\n",
    "\n",
    "def combine_and_sort_predictions(hourly_predictions_dir):\n",
    "    \n",
    "    all_predictions = []\n",
    "    all_trends = []\n",
    "    \n",
    "    for hour in range(1, 25):\n",
    "        \n",
    "        file_path = f'{hourly_predictions_dir}/hour_{hour}_predictions.csv'\n",
    "        if os.path.exists(file_path):\n",
    "            predictions_df = pd.read_csv(file_path)\n",
    "            \n",
    "            all_predictions.append(predictions_df['Predicted'].values)\n",
    "            all_trends.append(predictions_df['trend'].values)\n",
    "        else:\n",
    "            print(f\"file {file_path} not exist\")\n",
    "    \n",
    "    all_predictions = np.concatenate(all_predictions)\n",
    "    \n",
    "    all_trends = np.concatenate(all_trends)\n",
    "    \n",
    "    sorted_indices = np.argsort(all_trends)\n",
    "    \n",
    "    sorted_predictions = all_predictions[sorted_indices]\n",
    "    return sorted_predictions\n",
    "\n",
    "\n",
    "def train_and_predict():\n",
    "    \n",
    "    if not os.path.exists('./hourly_predictions'):\n",
    "        os.makedirs('./hourly_predictions')\n",
    "    \n",
    "    for hour in range(1, 25):\n",
    "        \n",
    "        X_train_file = f'./train_splits/X_train_hour_{hour}.csv'\n",
    "        Y_train_file = f'./train_splits/Y_train_hour_{hour}.csv'\n",
    "        X_test_file = f'./test_splits/X_test_hour_{hour}.csv'\n",
    "        Y_test_file = f'./test_splits/Y_test_hour_{hour}.csv'\n",
    "        X_train = pd.read_csv(X_train_file)\n",
    "        Y_train = pd.read_csv(Y_train_file)\n",
    "        X_test = pd.read_csv(X_test_file)\n",
    "        Y_test = pd.read_csv(Y_test_file)\n",
    "        \n",
    "        \n",
    "        model = Ridge(alpha=1.0)\n",
    "        \n",
    "        \n",
    "        model.fit(X_train, Y_train)\n",
    "        \n",
    "        \n",
    "        Y_test_pred = model.predict(X_test)\n",
    "        \n",
    "        \n",
    "        test_results = pd.DataFrame({\n",
    "            'Predicted': Y_test_pred[:, 0],  \n",
    "            'trend': X_test['trend'].values  \n",
    "        })\n",
    "        test_results.to_csv(f'./hourly_predictions/hour_{hour}_predictions.csv', index=False)\n",
    "    \n",
    "    \n",
    "    sorted_predictions = combine_and_sort_predictions('./hourly_predictions')\n",
    "    sorted_predictions_df = pd.DataFrame(sorted_predictions, columns=['Predicted'])\n",
    "    sorted_predictions_df.to_csv('prediction_Ridge.csv', index=False)  \n",
    "\n",
    "train_and_predict()"
   ]
  }
 ],
 "metadata": {
  "kernelspec": {
   "display_name": "NNLLL",
   "language": "python",
   "name": "nnlll"
  },
  "language_info": {
   "codemirror_mode": {
    "name": "ipython",
    "version": 3
   },
   "file_extension": ".py",
   "mimetype": "text/x-python",
   "name": "python",
   "nbconvert_exporter": "python",
   "pygments_lexer": "ipython3",
   "version": "3.9.15"
  }
 },
 "nbformat": 4,
 "nbformat_minor": 2
}
